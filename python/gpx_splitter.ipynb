{
 "cells": [
  {
   "cell_type": "code",
   "execution_count": 21,
   "metadata": {},
   "outputs": [],
   "source": [
    "import gpxpy\n",
    "import gpxpy.gpx\n",
    "from pathlib import Path"
   ]
  },
  {
   "cell_type": "code",
   "execution_count": null,
   "metadata": {},
   "outputs": [],
   "source": [
    "fp = Path('../_routes/PSandN-23-Stage1.gpx')\n",
    "with open(fp) as gpx_file:\n",
    "    gpx = gpxpy.parse(gpx_file)\n",
    "\n",
    "original_name = gpx.name"
   ]
  },
  {
   "cell_type": "code",
   "execution_count": 13,
   "metadata": {},
   "outputs": [
    {
     "name": "stdout",
     "output_type": "stream",
     "text": [
      "Course of 1044 will be split into 4 splits with 261 points per split\n"
     ]
    }
   ],
   "source": [
    "all_points = gpx.tracks[0].segments[0].points\n",
    "\n",
    "\n",
    "# generate this by loading the full course on your watch and seeing the error message\n",
    "watch_max_points = 50\n",
    "watch_ignored_points = 103\n",
    "watch_total_points = watch_max_points + watch_ignored_points\n",
    "\n",
    "splits_required = watch_total_points // watch_max_points + 1\n",
    "\n",
    "points_per_split = len(all_points) // splits_required\n",
    "\n",
    "if points_per_split * splits_required < len(all_points):\n",
    "    points_per_split += 1\n",
    "\n",
    "assert points_per_split * splits_required >= len(all_points), \"Sonething went wrong\"\n",
    "\n",
    "print(f\"Course of {len(all_points)} will be split into {splits_required} splits with {points_per_split} points per split\")"
   ]
  },
  {
   "cell_type": "code",
   "execution_count": 16,
   "metadata": {},
   "outputs": [],
   "source": [
    "section_ix = 1\n",
    "sections = [gpxpy.gpx.GPX()]\n",
    "gpx_track = gpxpy.gpx.GPXTrack()\n",
    "sections[-1].tracks.append(gpx_track)\n",
    "\n",
    "# Create first segment in our GPX track:\n",
    "gpx_segment = gpxpy.gpx.GPXTrackSegment()\n",
    "gpx_track.segments.append(gpx_segment)\n",
    "\n",
    "for ix, point in enumerate(all_points):\n",
    "    if ix > points_per_split * section_ix:\n",
    "        section_ix += 1\n",
    "        sections.append(gpxpy.gpx.GPX())\n",
    "        gpx_track = gpxpy.gpx.GPXTrack()\n",
    "        sections[-1].tracks.append(gpx_track)\n",
    "\n",
    "        # Create first segment in our GPX track:\n",
    "        gpx_segment = gpxpy.gpx.GPXTrackSegment()\n",
    "        gpx_track.segments.append(gpx_segment)\n",
    "    gpx_segment.points.append(point)\n",
    "    "
   ]
  },
  {
   "cell_type": "code",
   "execution_count": 28,
   "metadata": {},
   "outputs": [],
   "source": [
    "# Make a folder for the new routes\n",
    "\n",
    "folder_name = original_name.strip(\".gpx\").strip().replace(\" \", \"-\")\n",
    "fp = Path(f\"../_routes/{folder_name}\")\n",
    "fp.mkdir(exist_ok=True)\n",
    "route_base_name = f\"aa-PDSN\"\n",
    "for ix, section in enumerate(sections):\n",
    "    section.name = f\"{folder_name}-{ix}\"\n",
    "    with open(fp/f\"{route_base_name}-{ix}.gpx\", \"w\") as f:\n",
    "        f.write(section.to_xml())\n"
   ]
  },
  {
   "cell_type": "code",
   "execution_count": 10,
   "metadata": {},
   "outputs": [
    {
     "data": {
      "text/plain": [
       "1044"
      ]
     },
     "execution_count": 10,
     "metadata": {},
     "output_type": "execute_result"
    }
   ],
   "source": [
    "len(all_points)"
   ]
  },
  {
   "cell_type": "code",
   "execution_count": null,
   "metadata": {},
   "outputs": [],
   "source": [
    "# Creating a new file:\n",
    "# --------------------\n",
    "\n",
    "gpx = gpxpy.gpx.GPX()\n",
    "\n",
    "# Create first track in our GPX:\n",
    "gpx_track = gpxpy.gpx.GPXTrack()\n",
    "gpx.tracks.append(gpx_track)\n",
    "\n",
    "# Create first segment in our GPX track:\n",
    "gpx_segment = gpxpy.gpx.GPXTrackSegment()\n",
    "gpx_track.segments.append(gpx_segment)\n",
    "\n",
    "# Create points:\n",
    "gpx_segment.points.append(gpxpy.gpx.GPXTrackPoint(2.1234, 5.1234, elevation=1234))\n",
    "\n",
    "\n",
    "print('Created GPX:', gpx.to_xml())"
   ]
  }
 ],
 "metadata": {
  "kernelspec": {
   "display_name": ".venv",
   "language": "python",
   "name": "python3"
  },
  "language_info": {
   "codemirror_mode": {
    "name": "ipython",
    "version": 3
   },
   "file_extension": ".py",
   "mimetype": "text/x-python",
   "name": "python",
   "nbconvert_exporter": "python",
   "pygments_lexer": "ipython3",
   "version": "3.12.0"
  }
 },
 "nbformat": 4,
 "nbformat_minor": 2
}
