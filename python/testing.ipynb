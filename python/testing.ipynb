{
 "cells": [
  {
   "cell_type": "code",
   "execution_count": 1,
   "metadata": {},
   "outputs": [],
   "source": [
    "import math"
   ]
  },
  {
   "cell_type": "code",
   "execution_count": 2,
   "metadata": {},
   "outputs": [],
   "source": [
    "# Define a pace data structure\n",
    "class Pace():\n",
    "    def __init__(self, *args):\n",
    "        arg_len = len(args)\n",
    "        if arg_len == 1:\n",
    "            if isinstance(args[0], str):\n",
    "                args = args[0].split(\":\")\n",
    "                arg_len = len(args)\n",
    "            else:\n",
    "                raise ValueError(\"Pace must be initialized with at least seconds\")\n",
    "        elif arg_len == 2:\n",
    "            self.minutes = args[0]\n",
    "            self.seconds = args[1]\n",
    "            self.tenths = 0\n",
    "            self.hours = 0\n",
    "        elif arg_len == 3:\n",
    "            self.hours = 0\n",
    "            self.minutes = args[0]\n",
    "            self.seconds = args[1]\n",
    "            self.tenths = args[2]\n",
    "        elif arg_len == 4:\n",
    "            self.hours = args[0]\n",
    "            self.minutes = args[1]\n",
    "            self.seconds = args[2]\n",
    "            self.tenths = args[3]\n",
    "        self.dist_unit = \"km\"\n",
    "\n",
    "    def __add__(self, other):\n",
    "        _return = Pace(self.hours, self.minutes, self.seconds, self.tenths) \n",
    "        if _return.tenths != 0 or other.tenths != 0:\n",
    "            _return.tenths += other.tenths\n",
    "            if _return.tenths >= 60:\n",
    "                _return.seconds += 1\n",
    "                _return.tenths -= 60\n",
    "        _return.seconds += other.seconds \n",
    "        if _return.seconds >= 60:\n",
    "            _return.minutes += 1\n",
    "            _return.seconds -= 60\n",
    "        _return.minutes += other.minutes\n",
    "        if _return.minutes >= 60:\n",
    "            _return.hours += 1\n",
    "            _return.minutes -= 60\n",
    "        if (_return.hours != 0) or (other.hours != 0):\n",
    "            _return.hours += other.hours\n",
    "            \n",
    "        return _return\n",
    "    \n",
    "    def __sub__(self, other):\n",
    "        _return = Pace(self.hours, self.minutes, self.seconds, self.tenths) \n",
    "        if _return.tenths != 0 or other.tenths != 0:\n",
    "            _return.tenths -= other.tenths\n",
    "            if _return.tenths < 0:\n",
    "                _return.seconds -= 1\n",
    "                _return.tenths += 60\n",
    "        _return.seconds -= other.seconds\n",
    "        if _return.seconds < 0:\n",
    "            _return.minutes -= 1\n",
    "            _return.seconds += 60\n",
    "        _return.minutes -= other.minutes\n",
    "        if _return.minutes < 0 and self.hours > 0:\n",
    "            _return.hours -= 1\n",
    "            _return.minutes += 60\n",
    "        elif _return.minutes < 0 and self.hours == 0:\n",
    "            raise ValueError(\"Can't have negative pace\")\n",
    "        if (_return.hours != 0) or (other.hours != 0):\n",
    "            if _return.hours == 0:\n",
    "                _return.hours = 0\n",
    "            if other.hours == 0:\n",
    "                raise ValueError(\"Can't have negative pace\")\n",
    "        return _return\n",
    "    \n",
    "    def __mul__(self, scalar):\n",
    "        _return = Pace(self.hours, self.minutes, self.seconds, self.tenths)\n",
    "        if scalar < 0:\n",
    "            raise ValueError(\"Can't have negative pace\")\n",
    "        _return.tenths *= scalar\n",
    "        _return.seconds *= scalar\n",
    "        _return.minutes *= scalar\n",
    "        _return.hours *= scalar\n",
    "        _keep_going = True\n",
    "        while _keep_going:\n",
    "            if _return.tenths >= 60:\n",
    "                _return.seconds += 1\n",
    "                _return.tenths -= 60\n",
    "            if _return.seconds % 1 > 0:\n",
    "                _return.tenths += round((_return.seconds % 1) * 60, 2)\n",
    "                _return.seconds = int(_return.seconds // 1)\n",
    "            _return.tenths = int(_return.tenths // 1)\n",
    "            if _return.seconds >= 60:\n",
    "                _return.minutes += 1\n",
    "                _return.seconds -= 60\n",
    "            if _return.minutes % 1 > 0:\n",
    "                _return.seconds += round((_return.minutes % 1) * 60, 2)\n",
    "                _return.minutes = int(_return.minutes // 1)\n",
    "            _return.seconds = int(_return.seconds // 1)\n",
    "            if _return.minutes >= 60:\n",
    "                _return.hours += 1\n",
    "                _return.minutes -= 60\n",
    "            if _return.hours % 1 > 0:\n",
    "                _return.minutes += round((_return.hours % 1) * 60, 2)\n",
    "            _return.minutes = int(_return.minutes // 1)\n",
    "            _return.hours = int(_return.hours // 1)\n",
    "            if _return.tenths < 60 and _return.seconds < 60 and _return.minutes < 60:\n",
    "                _keep_going = False\n",
    "        return _return\n",
    "    \n",
    "    def __truediv__(self, scalar):\n",
    "        if scalar == 0:\n",
    "            raise ValueError(\"Can't divide by zero\")\n",
    "        scalar = 1/scalar\n",
    "        return self.__mul__(scalar)\n",
    "\n",
    "    def __str__(self):\n",
    "        _str = f\"{self.minutes:02d}:{self.seconds:02d}\"\n",
    "        _unit = f\"min:sec\"\n",
    "        if self.tenths != 0:\n",
    "            _str += f\":{self.tenths:02d}\"\n",
    "            _unit += \":tenths\"\n",
    "        if self.hours != 0:\n",
    "            _str = f\"{self.hours:02d}:\" + _str\n",
    "            _unit = f\"hours:\" + _unit\n",
    "        _unit += f\"/{self.dist_unit}\"\n",
    "        return _str+\" \"+_unit\n",
    "    \n",
    "    def __repr__(self):\n",
    "        return self.__str__()\n",
    "    \n",
    "    def __eq__(self, other):\n",
    "        return (self.hours == other.hours) and (self.minutes == other.minutes) and (self.seconds == other.seconds) and (self.tenths == other.tenths)\n",
    "\n"
   ]
  },
  {
   "cell_type": "code",
   "execution_count": 3,
   "metadata": {},
   "outputs": [
    {
     "name": "stdout",
     "output_type": "stream",
     "text": [
      "Got expected result 11:15 min:sec/km\n",
      "Got expected error\n",
      "Got expected result 00:15 min:sec/km\n"
     ]
    }
   ],
   "source": [
    "# Test Add and Subtract\n",
    "\n",
    "new_pace = Pace(5, 30) + Pace(5, 45)\n",
    "assert new_pace == Pace(11, 15), f\"Got unexpected result {new_pace}\"\n",
    "print(f\"Got expected result {new_pace}\")\n",
    "\n",
    "try:\n",
    "    Pace(5, 30) - Pace(5, 45)\n",
    "except ValueError as e:\n",
    "    assert str(e) == \"Can't have negative pace\"\n",
    "    print(\"Got expected error\")\n",
    "\n",
    "new_pace = Pace(5, 30) - Pace(5, 15)\n",
    "assert new_pace == Pace(0, 15), f\"Got unexpected result {new_pace}\"\n",
    "print(f\"Got expected result {new_pace}\")\n"
   ]
  },
  {
   "cell_type": "code",
   "execution_count": 4,
   "metadata": {},
   "outputs": [
    {
     "name": "stdout",
     "output_type": "stream",
     "text": [
      "Got expected result 11:00 min:sec/km\n",
      "Got expected result 07:30 min:sec/km\n",
      "Got expected result 03:21:36 min:sec:tenths/km\n",
      "Got expected result 02:06 min:sec/km\n"
     ]
    }
   ],
   "source": [
    "# Test Multiply\n",
    "\n",
    "new_pace = Pace(5, 30) * 2\n",
    "assert new_pace == Pace(11, 0), f\"Got unexpected result {new_pace}\"\n",
    "print(f\"Got expected result {new_pace}\")\n",
    "\n",
    "new_pace = Pace(5, 00) * 1.5\n",
    "assert new_pace == Pace(7, 30), f\"Got unexpected result {new_pace}\"\n",
    "print(f\"Got expected result {new_pace}\")\n",
    "\n",
    "new_pace = Pace(4, 12) * 0.8\n",
    "assert new_pace == Pace(3, 21, 36), f\"Got unexpected result {new_pace}\"\n",
    "print(f\"Got expected result {new_pace}\")\n",
    "\n",
    "# Test Divide\n",
    "new_pace = Pace(4, 12) / 2\n",
    "assert new_pace == Pace(2, 6), f\"Got unexpected result {new_pace}\"\n",
    "print(f\"Got expected result {new_pace}\")"
   ]
  },
  {
   "cell_type": "code",
   "execution_count": 5,
   "metadata": {},
   "outputs": [],
   "source": [
    "class RunPredictor():\n",
    "    def __init__(self, \n",
    "                 base_pace=Pace(5, 0),\n",
    "                 base_dist=10,\n",
    "                 dist_factor=1.2):\n",
    "        # Establish run factors\n",
    "\n",
    "        # Base Pace is a comfortable pace for a 10k\n",
    "        self.base_pace = base_pace\n",
    "        self.base_dist = base_dist\n",
    "\n",
    "        # Scalar factors\n",
    "        # Distance factor is a linear response to the distance of the run\n",
    "        self.scalar_factors = {\n",
    "            \"dist_factor\": dist_factor\n",
    "        }\n",
    "\n",
    "    def calculate_dist_adjustment(self, distance):\n",
    "        distance_multiple = distance / self.base_dist\n",
    "        return  math.pow(self.scalar_factors[\"dist_factor\"], distance_multiple - 1)\n",
    "\n",
    "    def predict(self, distance):\n",
    "        _dist_mod = self.calculate_dist_adjustment(distance)\n",
    "        return self.base_pace * _dist_mod"
   ]
  },
  {
   "cell_type": "code",
   "execution_count": 6,
   "metadata": {},
   "outputs": [
    {
     "name": "stdout",
     "output_type": "stream",
     "text": [
      "04:29:33 min:sec:tenths/km\n",
      "04:47:07 min:sec:tenths/km\n",
      "05:05:48 min:sec:tenths/km\n",
      "05:30 min:sec/km\n",
      "07:09 min:sec/km\n",
      "07:51:58 min:sec:tenths/km\n"
     ]
    }
   ],
   "source": [
    "test_5_10 = RunPredictor(base_pace=Pace(5,30), base_dist=21.1, dist_factor=1.3)\n",
    "print(test_5_10.predict(5))\n",
    "print(test_5_10.predict(10))\n",
    "print(test_5_10.predict(15))\n",
    "print(test_5_10.predict(21.1))\n",
    "print(test_5_10.predict(42.2))\n",
    "print(test_5_10.predict(50))\n"
   ]
  },
  {
   "cell_type": "code",
   "execution_count": 7,
   "metadata": {},
   "outputs": [
    {
     "ename": "ModuleNotFoundError",
     "evalue": "No module named 'matplotlib'",
     "output_type": "error",
     "traceback": [
      "\u001b[0;31m---------------------------------------------------------------------------\u001b[0m",
      "\u001b[0;31mModuleNotFoundError\u001b[0m                       Traceback (most recent call last)",
      "\u001b[1;32m/Users/pipgrylls/Code/pip-goes-running/python/testing.ipynb Cell 7\u001b[0m line \u001b[0;36m1\n\u001b[0;32m----> <a href='vscode-notebook-cell:/Users/pipgrylls/Code/pip-goes-running/python/testing.ipynb#X15sZmlsZQ%3D%3D?line=0'>1</a>\u001b[0m \u001b[39mimport\u001b[39;00m \u001b[39mmatplotlib\u001b[39;00m\u001b[39m.\u001b[39;00m\u001b[39mpyplot\u001b[39;00m \u001b[39mas\u001b[39;00m \u001b[39mplt\u001b[39;00m\n",
      "\u001b[0;31mModuleNotFoundError\u001b[0m: No module named 'matplotlib'"
     ]
    }
   ],
   "source": [
    "import matplotlib.pyplot as plt"
   ]
  },
  {
   "cell_type": "code",
   "execution_count": null,
   "metadata": {},
   "outputs": [],
   "source": [
    "comfortable_paces = [\n",
    "    [Pace(4, 30), 5],\n",
    "    [Pace(5, 0), 10],\n",
    "    [Pace(5, 30), 15],\n",
    "    [Pace(6, 0), 21.1],\n",
    "]\n",
    "\n",
    "plt.plot([x[1] for x in comfortable_paces], [x[0].minutes for x in comfortable_paces])"
   ]
  }
 ],
 "metadata": {
  "kernelspec": {
   "display_name": ".venv",
   "language": "python",
   "name": "python3"
  },
  "language_info": {
   "codemirror_mode": {
    "name": "ipython",
    "version": 3
   },
   "file_extension": ".py",
   "mimetype": "text/x-python",
   "name": "python",
   "nbconvert_exporter": "python",
   "pygments_lexer": "ipython3",
   "version": "3.12.0"
  }
 },
 "nbformat": 4,
 "nbformat_minor": 2
}
