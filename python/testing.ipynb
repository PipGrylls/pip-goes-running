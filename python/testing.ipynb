{
 "cells": [
  {
   "cell_type": "code",
   "execution_count": null,
   "metadata": {},
   "outputs": [],
   "source": []
  },
  {
   "cell_type": "code",
   "execution_count": 20,
   "metadata": {},
   "outputs": [],
   "source": [
    "# Define a pace data structure\n",
    "class Pace():\n",
    "    def __init__(self, *args):\n",
    "        arg_len = len(args)\n",
    "        if arg_len == 1:\n",
    "            if isinstance(args[0], str):\n",
    "                args = args[0].split(\":\")\n",
    "                arg_len = len(args)\n",
    "            else:\n",
    "                raise ValueError(\"Pace must be initialized with at least seconds\")\n",
    "        elif arg_len == 2:\n",
    "            self.minutes = args[0]\n",
    "            self.seconds = args[1]\n",
    "            self.tenths = 0\n",
    "            self.hours = 0\n",
    "        elif arg_len == 3:\n",
    "            self.hours = 0\n",
    "            self.minutes = args[0]\n",
    "            self.seconds = args[1]\n",
    "            self.tenths = args[2]\n",
    "        elif arg_len == 4:\n",
    "            self.hours = args[0]\n",
    "            self.minutes = args[1]\n",
    "            self.seconds = args[2]\n",
    "            self.tenths = args[3]\n",
    "        self.dist_unit = \"km\"\n",
    "\n",
    "    def __add__(self, other): \n",
    "        if self.tenths != 0 or other.tenths != 0:\n",
    "            self.tenths += other.tenths\n",
    "            if self.tenths >= 60:\n",
    "                self.seconds += 1\n",
    "                self.tenths -= 60\n",
    "        self.seconds += other.seconds \n",
    "        if self.seconds >= 60:\n",
    "            self.minutes += 1\n",
    "            self.seconds -= 60\n",
    "        self.minutes += other.minutes\n",
    "        if self.minutes >= 60:\n",
    "            self.hours += 1\n",
    "            self.minutes -= 60\n",
    "        if (self.hours != 0) or (other.hours != 0):\n",
    "            self.hours += other.hours\n",
    "            \n",
    "        return Pace(self.hours, self.minutes, self.seconds, self.tenths)\n",
    "    \n",
    "    def __sub__(self, other):\n",
    "        if self.tenths != 0 or other.tenths != 0:\n",
    "            self.tenths -= other.tenths\n",
    "            if self.tenths < 0:\n",
    "                self.seconds -= 1\n",
    "                self.tenths += 60\n",
    "        self.seconds -= other.seconds\n",
    "        if self.seconds < 0:\n",
    "            self.minutes -= 1\n",
    "            self.seconds += 60\n",
    "        self.minutes -= other.minutes\n",
    "        if self.minutes < 0 and self.hours > 0:\n",
    "            self.hours -= 1\n",
    "            self.minutes += 60\n",
    "        elif self.minutes < 0 and self.hours == 0:\n",
    "            raise ValueError(\"Can't have negative pace\")\n",
    "        if (self.hours != 0) or (other.hours != 0):\n",
    "            if self.hours == 0:\n",
    "                self.hours = 0\n",
    "            if other.hours == 0:\n",
    "                raise ValueError(\"Can't have negative pace\")\n",
    "        return Pace(self.hours, self.minutes, self.seconds, self.tenths)\n",
    "    \n",
    "    def __mul__(self, scalar):\n",
    "        if scalar < 0:\n",
    "            raise ValueError(\"Can't have negative pace\")\n",
    "        self.tenths *= scalar\n",
    "        self.seconds *= scalar\n",
    "        self.minutes *= scalar\n",
    "        self.hours *= scalar\n",
    "        if self.tenths % 1 > 0:\n",
    "            self.seconds += round((self.tenths % 1) * 60, 2)\n",
    "        if self.tenths >= 60:\n",
    "            self.seconds += 1\n",
    "            self.tenths -= 60\n",
    "        if self.seconds % 1 > 0:\n",
    "            self.tenths = round((self.seconds % 1) * 60, 2)\n",
    "        if self.seconds >= 60:\n",
    "            self.minutes += 1\n",
    "            self.seconds -= 60\n",
    "        if self.minutes >= 60:\n",
    "            self.hours += 1\n",
    "            self.minutes -= 60\n",
    "        if self.hours % 1 > 0:\n",
    "            self.minutes = round((self.hours % 1) * 60, 2)\n",
    "        return Pace( self.hours, self.minutes, self.seconds, self.tenths)\n",
    "    \n",
    "    def __str__(self):\n",
    "        _str = f\"{self.minutes:02d}:{self.seconds:02d}\"\n",
    "        _unit = f\"min:sec\"\n",
    "        if self.tenths != 0:\n",
    "            _str += f\":{self.tenths:02d}\"\n",
    "            _unit += \":tenths\"\n",
    "        if self.hours != 0:\n",
    "            _str = f\"{self.hours:02d}:\" + _str\n",
    "            _unit = f\"hours:\" + _unit\n",
    "        _unit += f\"/{self.dist_unit}\"\n",
    "        return _str+\" \"+_unit\n",
    "    \n",
    "    def __repr__(self):\n",
    "        return self.__str__()\n",
    "    \n",
    "    def __eq__(self, other):\n",
    "        return (self.hours == other.hours) and (self.minutes == other.minutes) and (self.seconds == other.seconds) and (self.tenths == other.tenths)\n",
    "\n"
   ]
  },
  {
   "cell_type": "code",
   "execution_count": 21,
   "metadata": {},
   "outputs": [
    {
     "name": "stdout",
     "output_type": "stream",
     "text": [
      "Got expected result 11:15 min:sec/km\n",
      "Got expected error\n",
      "Got expected result 00:15 min:sec/km\n"
     ]
    }
   ],
   "source": [
    "# Test Add and Subtract\n",
    "\n",
    "new_pace = Pace(5, 30) + Pace(5, 45)\n",
    "assert new_pace == Pace(11, 15), f\"Got unexpected result {new_pace}\"\n",
    "print(f\"Got expected result {new_pace}\")\n",
    "\n",
    "try:\n",
    "    Pace(5, 30) - Pace(5, 45)\n",
    "except ValueError as e:\n",
    "    assert str(e) == \"Can't have negative pace\"\n",
    "    print(\"Got expected error\")\n",
    "\n",
    "new_pace = Pace(5, 30) - Pace(5, 15)\n",
    "assert new_pace == Pace(0, 15), f\"Got unexpected result {new_pace}\"\n",
    "print(f\"Got expected result {new_pace}\")\n"
   ]
  },
  {
   "cell_type": "code",
   "execution_count": 22,
   "metadata": {},
   "outputs": [
    {
     "name": "stdout",
     "output_type": "stream",
     "text": [
      "Got expected result 11:00 min:sec/km\n"
     ]
    }
   ],
   "source": [
    "# Test Multiply\n",
    "\n",
    "new_pace = Pace(5, 30) * 2\n",
    "assert new_pace == Pace(11, 0), f\"Got unexpected result {new_pace}\"\n",
    "print(f\"Got expected result {new_pace}\")\n",
    "\n"
   ]
  },
  {
   "cell_type": "code",
   "execution_count": null,
   "metadata": {},
   "outputs": [],
   "source": [
    "class RunPredictor():\n",
    "    def __init__(self):\n",
    "        # Establish fun factors\n",
    "        self.base_pace = Pace(8, 0)"
   ]
  }
 ],
 "metadata": {
  "kernelspec": {
   "display_name": ".venv",
   "language": "python",
   "name": "python3"
  },
  "language_info": {
   "codemirror_mode": {
    "name": "ipython",
    "version": 3
   },
   "file_extension": ".py",
   "mimetype": "text/x-python",
   "name": "python",
   "nbconvert_exporter": "python",
   "pygments_lexer": "ipython3",
   "version": "3.12.0"
  }
 },
 "nbformat": 4,
 "nbformat_minor": 2
}
